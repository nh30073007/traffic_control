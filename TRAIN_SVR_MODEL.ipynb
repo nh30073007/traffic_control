{
 "cells": [
  {
   "cell_type": "code",
   "execution_count": 1,
   "id": "a89c09a6",
   "metadata": {},
   "outputs": [
    {
     "name": "stdout",
     "output_type": "stream",
     "text": [
      "DateTime    0\n",
      "Junction    0\n",
      "Vehicles    0\n",
      "ID          0\n",
      "dtype: int64\n"
     ]
    },
    {
     "name": "stderr",
     "output_type": "stream",
     "text": [
      "C:\\Users\\nh013\\AppData\\Local\\Temp\\ipykernel_10380\\854749533.py:39: FutureWarning: The default value of numeric_only in DataFrame.mean is deprecated. In a future version, it will default to False. In addition, specifying 'numeric_only=None' is deprecated. Select only valid columns or specify the value of numeric_only to silence this warning.\n",
      "  mean = df.mean()\n"
     ]
    },
    {
     "data": {
      "image/png": "[encoded data removed]",
      "text/plain": [
       "<Figure size 640x480 with 1 Axes>"
      ]
     },
     "metadata": {},
     "output_type": "display_data"
    }
   ],
   "source": [
    "#USING (SVR) SUPPORT VECTOR REGRESSION MODEL\n",
    "\n",
    "import pandas as pd\n",
    "from sklearn.preprocessing import MinMaxScaler, StandardScaler\n",
    "import numpy as np\n",
    "from sklearn.svm import SVR\n",
    "import matplotlib.pyplot as plt\n",
    "\n",
    "\n",
    "\n",
    "# USING FUNCTION TO HANDLE_OUTLIERS\n",
    "\n",
    "def handle_outliers(df, column):\n",
    "    Q1 = df[column].quantile(0.25)\n",
    "    Q3 = df[column].quantile(0.75)\n",
    "    IQR = Q3 - Q1\n",
    "    lower_bound = Q1 - 1.5*IQR\n",
    "    upper_bound = Q3 + 1.5*IQR\n",
    "    df = df[(df[column] >= lower_bound) & (df[column] <= upper_bound)]\n",
    "    return df\n",
    "\n",
    "\n",
    "# DATAAET\n",
    "df = pd.read_csv(r\"C:\\Users\\nh013\\Desktop\\trafic control.csv\\traffic.csv\")\n",
    "\n",
    "# FEATURE SELCECTION\n",
    "\n",
    "df = df[['DateTime','Junction','Vehicles','ID']]\n",
    "\n",
    "# IDENDIFY MISSING VALUES\n",
    "\n",
    "print(df.isnull().sum())\n",
    "\n",
    "# DROP ROWS WITH MISSING VALUES\n",
    "\n",
    "df.dropna(inplace=True)\n",
    "\n",
    "#FILL MISSING VALUES WITH MEAN\n",
    "mean = df.mean()\n",
    "df.fillna(mean, inplace=True)\n",
    "\n",
    "#FILL MISSING VALUES WITH MODE\n",
    "mode = df.mode().iloc[0]\n",
    "df.fillna(mode, inplace=True)\n",
    "\n",
    "#FILL MISSING VALUES WITH FORWARD FILL\n",
    "df.fillna(method='ffill', inplace=True)\n",
    "\n",
    "#FILL MISSING VALUES WITH  BACKWARD FILL\n",
    "df.fillna(method='bfill', inplace=True)\n",
    "\n",
    "\n",
    "# ONE -HOT  ENCODING\n",
    "df = pd.get_dummies(df, columns=['Junction'])\n",
    "\n",
    "#HANDLE OUTLIERS\n",
    "df = handle_outliers(df, 'Vehicles')\n",
    "\n",
    "# REMOVE DUBLICATE ROWS\n",
    "df.drop_duplicates(inplace=True)\n",
    "\n",
    "\n",
    "scaler = MinMaxScaler()\n",
    "df[['Vehicles']] = scaler.fit_transform(df[['Vehicles']])\n",
    "\n",
    "\n",
    "scaler = StandardScaler()\n",
    "num_cols = df.select_dtypes(include='number').columns\n",
    "df[num_cols] = scaler.fit_transform(df[num_cols])\n",
    "\n",
    "# ROLLING STATISTICS\n",
    "df['Average_rolling_mean'] = df['Vehicles'].rolling(window=30).mean()\n",
    "df['Average_rolling_std'] = df['Vehicles'].rolling(window=30).std()\n",
    "\n",
    "# DROP NAN VALUES\n",
    "df.dropna(inplace=True)\n",
    "\n",
    "# SPLIT DATA\n",
    "X = df.drop(['DateTime', 'ID', 'Vehicles'], axis=1)\n",
    "y = df['Vehicles']\n",
    "\n",
    "\n",
    "train_size = int(0.7 * len(df))\n",
    "X_train, X_test = X[:train_size], X[train_size:]\n",
    "y_train, y_test = y[:train_size], y[train_size:]\n",
    "\n",
    "# SVR MODEL\n",
    "model = SVR()\n",
    "\n",
    "# FIT THE MODEL\n",
    "model.fit(X_train, y_train)\n",
    "\n",
    "# PREDICT \n",
    "y_pred = model.predict(X_test)\n",
    "\n",
    "\n",
    "plt.plot(y_test, label='Actual')\n",
    "plt.plot(y_pred, label='Predicted')\n",
    "plt.legend()\n",
    "plt.show()"
   ]
  },
  {
   "cell_type": "code",
   "execution_count": null,
   "id": "fd37c0dd",
   "metadata": {},
   "outputs": [],
   "source": []
  },
  {
   "cell_type": "code",
   "execution_count": null,
   "id": "2d9871af",
   "metadata": {},
   "outputs": [],
   "source": []
  }
 ],
 "metadata": {
  "kernelspec": {
   "display_name": "Python 3 (ipykernel)",
   "language": "python",
   "name": "python3"
  },
  "language_info": {
   "codemirror_mode": {
    "name": "ipython",
    "version": 3
   },
   "file_extension": ".py",
   "mimetype": "text/x-python",
   "name": "python",
   "nbconvert_exporter": "python",
   "pygments_lexer": "ipython3",
   "version": "3.10.9"
  }
 },
 "nbformat": 4,
 "nbformat_minor": 5
}
